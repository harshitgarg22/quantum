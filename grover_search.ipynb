{
 "cells": [
  {
   "cell_type": "markdown",
   "metadata": {},
   "source": [
    "# Grover's Search Algorithm\n",
    "\n",
    "In this module, I'll implement the grover's search algorithm to work on IBM's quantum computer."
   ]
  }
 ],
 "metadata": {
  "kernelspec": {
   "display_name": ".qiskit",
   "language": "python",
   "name": ".qiskit"
  },
  "language_info": {
   "codemirror_mode": {
    "name": "ipython",
    "version": 3
   },
   "file_extension": ".py",
   "mimetype": "text/x-python",
   "name": "python",
   "nbconvert_exporter": "python",
   "pygments_lexer": "ipython3",
   "version": "3.7.6"
  }
 },
 "nbformat": 4,
 "nbformat_minor": 4
}
