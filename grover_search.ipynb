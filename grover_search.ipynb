{
 "cells": [
  {
   "cell_type": "markdown",
   "metadata": {},
   "source": [
    "# Grover's Search Algorithm\n",
    "\n",
    "In this module, I'll implement the grover's search algorithm to work on IBM's quantum computer."
   ]
  },
  {
   "cell_type": "code",
   "execution_count": 25,
   "metadata": {},
   "outputs": [],
   "source": [
    "from qiskit import *\n",
    "from qiskit.tools.visualization import plot_histogram\n",
    "from qiskit.tools.monitor import job_monitor\n",
    "from qiskit.providers.ibmq import least_busy\n",
    "import qiskit.tools.jupyter"
   ]
  },
  {
   "cell_type": "code",
   "execution_count": 2,
   "metadata": {},
   "outputs": [
    {
     "data": {
      "text/plain": [
       "<qiskit.circuit.instructionset.InstructionSet at 0x7f49ee7ef950>"
      ]
     },
     "execution_count": 2,
     "metadata": {},
     "output_type": "execute_result"
    }
   ],
   "source": [
    "qc = QuantumCircuit(2, 2)\n",
    "\n",
    "# Supeorposition\n",
    "qc.h(0)\n",
    "qc.h(1)\n",
    "\n",
    "# Oracle\n",
    "qc.cz(0, 1)\n",
    "\n",
    "# Reflection\n",
    "\n",
    "qc.h(0)\n",
    "qc.h(1)\n",
    "qc.x(0)\n",
    "qc.x(1)\n",
    "qc.cz(0, 1)\n",
    "qc.x(0)\n",
    "qc.x(1)\n",
    "qc.h(0)\n",
    "qc.h(1)\n",
    "\n",
    "# Measurement\n",
    "\n",
    "qc.measure([0, 1], [0, 1])"
   ]
  },
  {
   "cell_type": "code",
   "execution_count": 3,
   "metadata": {},
   "outputs": [
    {
     "data": {
      "text/html": [
       "<pre style=\"word-wrap: normal;white-space: pre;background: #fff0;line-height: 1.1;font-family: &quot;Courier New&quot;,Courier,monospace\">        ┌───┐   ┌───┐┌───┐   ┌───┐┌───┐┌─┐   \n",
       "q_0: |0>┤ H ├─■─┤ H ├┤ X ├─■─┤ X ├┤ H ├┤M├───\n",
       "        ├───┤ │ ├───┤├───┤ │ ├───┤├───┤└╥┘┌─┐\n",
       "q_1: |0>┤ H ├─■─┤ H ├┤ X ├─■─┤ X ├┤ H ├─╫─┤M├\n",
       "        └───┘   └───┘└───┘   └───┘└───┘ ║ └╥┘\n",
       " c_0: 0 ════════════════════════════════╩══╬═\n",
       "                                           ║ \n",
       " c_1: 0 ═══════════════════════════════════╩═\n",
       "                                             </pre>"
      ],
      "text/plain": [
       "        ┌───┐   ┌───┐┌───┐   ┌───┐┌───┐┌─┐   \n",
       "q_0: |0>┤ H ├─■─┤ H ├┤ X ├─■─┤ X ├┤ H ├┤M├───\n",
       "        ├───┤ │ ├───┤├───┤ │ ├───┤├───┤└╥┘┌─┐\n",
       "q_1: |0>┤ H ├─■─┤ H ├┤ X ├─■─┤ X ├┤ H ├─╫─┤M├\n",
       "        └───┘   └───┘└───┘   └───┘└───┘ ║ └╥┘\n",
       " c_0: 0 ════════════════════════════════╩══╬═\n",
       "                                           ║ \n",
       " c_1: 0 ═══════════════════════════════════╩═\n",
       "                                             "
      ]
     },
     "execution_count": 3,
     "metadata": {},
     "output_type": "execute_result"
    }
   ],
   "source": [
    "qc.draw()"
   ]
  },
  {
   "cell_type": "markdown",
   "metadata": {},
   "source": [
    "# QASM Simulation"
   ]
  },
  {
   "cell_type": "code",
   "execution_count": 4,
   "metadata": {},
   "outputs": [
    {
     "name": "stdout",
     "output_type": "stream",
     "text": [
      "{'11': 4096}\n"
     ]
    },
    {
     "data": {
      "image/png": "[encoded data removed]",
      "text/plain": [
       "<Figure size 504x360 with 1 Axes>"
      ]
     },
     "execution_count": 4,
     "metadata": {},
     "output_type": "execute_result"
    }
   ],
   "source": [
    "backend = Aer.get_backend('qasm_simulator')\n",
    "\n",
    "job = execute(qc, backend = backend, shots=4096)\n",
    "\n",
    "result = job.result()\n",
    "\n",
    "counts = result.get_counts()\n",
    "print(counts)\n",
    "\n",
    "plot_histogram(counts)"
   ]
  },
  {
   "cell_type": "markdown",
   "metadata": {},
   "source": [
    "# IBMQ"
   ]
  },
  {
   "cell_type": "code",
   "execution_count": null,
   "metadata": {},
   "outputs": [],
   "source": [
    "# Run on an actual IBM Quantum Computer\n",
    "\n",
    "from Qconfig import APItoken\n",
    "IBMQ.save_account(APItoken)\n",
    "IBMQ.enable_account(APItoken)"
   ]
  },
  {
   "cell_type": "code",
   "execution_count": 50,
   "metadata": {},
   "outputs": [],
   "source": [
    "# IBMQ.load_account()\n",
    "# %qiskit_backend_overview\n",
    "\n",
    "provider = IBMQ.get_provider(hub='ibm-q')\n",
    "\n",
    "# Get the least bust provider which is not a simulator.\n",
    "backend = least_busy(provider.backends(simulator=False))\n",
    "\n",
    "ibm_job = execute(qc, backend = backend, shots=4096)"
   ]
  },
  {
   "cell_type": "code",
   "execution_count": 51,
   "metadata": {},
   "outputs": [
    {
     "name": "stdout",
     "output_type": "stream",
     "text": [
      "Job Status: job has successfully run\n"
     ]
    }
   ],
   "source": [
    "job_monitor(ibm_job)"
   ]
  },
  {
   "cell_type": "code",
   "execution_count": 52,
   "metadata": {},
   "outputs": [
    {
     "data": {
      "image/png": "[encoded data removed]",
      "text/plain": [
       "<Figure size 504x360 with 1 Axes>"
      ]
     },
     "execution_count": 52,
     "metadata": {},
     "output_type": "execute_result"
    }
   ],
   "source": [
    "ibm_job_result = ibm_job.result()\n",
    "\n",
    "plot_histogram(ibm_job_result.get_counts())"
   ]
  },
  {
   "cell_type": "code",
   "execution_count": 27,
   "metadata": {},
   "outputs": [
    {
     "data": {
      "text/html": [
       "<h3>Version Information</h3><table><tr><th>Qiskit Software</th><th>Version</th></tr><tr><td>Qiskit</td><td>0.16.2</td></tr><tr><td>Terra</td><td>0.12.0</td></tr><tr><td>Aer</td><td>0.4.1</td></tr><tr><td>Ignis</td><td>0.2.0</td></tr><tr><td>Aqua</td><td>0.6.5</td></tr><tr><td>IBM Q Provider</td><td>0.5.0</td></tr><tr><th>System information</th></tr><tr><td>Python</td><td>3.7.6 (default, Feb  3 2020, 20:51:20) \n",
       "[GCC 9.2.0]</td></tr><tr><td>OS</td><td>Linux</td></tr><tr><td>CPUs</td><td>4</td></tr><tr><td>Memory (Gb)</td><td>7.739738464355469</td></tr><tr><td colspan='2'>Sat May 23 21:25:35 2020 IST</td></tr></table>"
      ],
      "text/plain": [
       "<IPython.core.display.HTML object>"
      ]
     },
     "metadata": {},
     "output_type": "display_data"
    }
   ],
   "source": [
    "%qiskit_version_table"
   ]
  }
 ],
 "metadata": {
  "kernelspec": {
   "display_name": ".qiskit",
   "language": "python",
   "name": ".qiskit"
  },
  "language_info": {
   "codemirror_mode": {
    "name": "ipython",
    "version": 3
   },
   "file_extension": ".py",
   "mimetype": "text/x-python",
   "name": "python",
   "nbconvert_exporter": "python",
   "pygments_lexer": "ipython3",
   "version": "3.7.6"
  }
 },
 "nbformat": 4,
 "nbformat_minor": 4
}
